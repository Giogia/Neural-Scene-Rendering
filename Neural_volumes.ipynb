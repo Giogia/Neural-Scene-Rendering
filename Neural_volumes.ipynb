{
  "nbformat": 4,
  "nbformat_minor": 0,
  "metadata": {
    "colab": {
      "name": "Neural volumes.ipynb",
      "provenance": [],
      "collapsed_sections": [],
      "machine_shape": "hm",
      "authorship_tag": "ABX9TyPICJudSAZIQVAmGU9qC+++",
      "include_colab_link": true
    },
    "kernelspec": {
      "name": "python3",
      "display_name": "Python 3"
    },
    "accelerator": "GPU"
  },
  "cells": [
    {
      "cell_type": "markdown",
      "metadata": {
        "id": "view-in-github",
        "colab_type": "text"
      },
      "source": [
        "<a href=\"https://colab.research.google.com/github/Giogia/Neural-Volumes/blob/master/Neural_volumes.ipynb\" target=\"_parent\"><img src=\"https://colab.research.google.com/assets/colab-badge.svg\" alt=\"Open In Colab\"/></a>"
      ]
    },
    {
      "cell_type": "code",
      "metadata": {
        "id": "MEMItnDqJ8-G",
        "colab_type": "code",
        "outputId": "32fea426-7a5e-4028-ce48-87929edb6774",
        "colab": {
          "base_uri": "https://localhost:8080/",
          "height": 173
        }
      },
      "source": [
        "#Init Colab location to repo, mount drive if necessary\n",
        "import os\n",
        "\n",
        "directory = 'gdrive/My Drive/Colab/Neural-Volumes'\n",
        "\n",
        "if os.getcwd() == '/content' and 'gdrive' not in os.listdir():\n",
        "  \n",
        "  from google.colab import drive\n",
        "  drive.mount('/content/gdrive')\n",
        "\n",
        "if os.getcwd() != '/content/' + directory:\n",
        "  os.chdir(directory)\n",
        "\n",
        "print('Repository Content', '\\n')\n",
        "%ls"
      ],
      "execution_count": 6,
      "outputs": [
        {
          "output_type": "stream",
          "text": [
            "Go to this URL in a browser: https://accounts.google.com/o/oauth2/auth?client_id=947318989803-6bn6qk8qdgf4n4g3pfee6491hc0brc4i.apps.googleusercontent.com&redirect_uri=urn%3aietf%3awg%3aoauth%3a2.0%3aoob&response_type=code&scope=email%20https%3a%2f%2fwww.googleapis.com%2fauth%2fdocs.test%20https%3a%2f%2fwww.googleapis.com%2fauth%2fdrive%20https%3a%2f%2fwww.googleapis.com%2fauth%2fdrive.photos.readonly%20https%3a%2f%2fwww.googleapis.com%2fauth%2fpeopleapi.readonly\n",
            "\n",
            "Enter your authorization code:\n",
            "··········\n",
            "Mounted at /content/gdrive\n",
            "Repository Content \n",
            "\n",
            "\u001b[0m\u001b[01;34mdata\u001b[0m/  \u001b[01;34meval\u001b[0m/  \u001b[01;34mexperiments\u001b[0m/  experiments.tar.gz  \u001b[01;34mmodels\u001b[0m/  render.py  train.py\n"
          ],
          "name": "stdout"
        }
      ]
    },
    {
      "cell_type": "code",
      "metadata": {
        "id": "txXEYUYquHH8",
        "colab_type": "code",
        "outputId": "10d10267-14e9-476a-d210-a5ed99c85ddc",
        "colab": {
          "base_uri": "https://localhost:8080/",
          "height": 34
        }
      },
      "source": [
        "!git pull"
      ],
      "execution_count": 15,
      "outputs": [
        {
          "output_type": "stream",
          "text": [
            "Already up to date.\n"
          ],
          "name": "stdout"
        }
      ]
    },
    {
      "cell_type": "code",
      "metadata": {
        "colab_type": "code",
        "id": "23TOba33L4qf",
        "outputId": "30515287-f912-47ee-d7d6-a79581d9a2c1",
        "colab": {
          "base_uri": "https://localhost:8080/",
          "height": 306
        }
      },
      "source": [
        "gpu_info = !nvidia-smi\n",
        "gpu_info = '\\n'.join(gpu_info)\n",
        "if gpu_info.find('failed') >= 0:\n",
        "  print('Select the Runtime → \"Change runtime type\" menu to enable a GPU accelerator, ')\n",
        "  print('and then re-execute this cell.')\n",
        "else:\n",
        "  print(gpu_info)"
      ],
      "execution_count": 16,
      "outputs": [
        {
          "output_type": "stream",
          "text": [
            "Tue Apr 21 18:23:42 2020       \n",
            "+-----------------------------------------------------------------------------+\n",
            "| NVIDIA-SMI 440.64.00    Driver Version: 418.67       CUDA Version: 10.1     |\n",
            "|-------------------------------+----------------------+----------------------+\n",
            "| GPU  Name        Persistence-M| Bus-Id        Disp.A | Volatile Uncorr. ECC |\n",
            "| Fan  Temp  Perf  Pwr:Usage/Cap|         Memory-Usage | GPU-Util  Compute M. |\n",
            "|===============================+======================+======================|\n",
            "|   0  Tesla P100-PCIE...  Off  | 00000000:00:04.0 Off |                    0 |\n",
            "| N/A   32C    P0    25W / 250W |      0MiB / 16280MiB |      0%      Default |\n",
            "+-------------------------------+----------------------+----------------------+\n",
            "                                                                               \n",
            "+-----------------------------------------------------------------------------+\n",
            "| Processes:                                                       GPU Memory |\n",
            "|  GPU       PID   Type   Process name                             Usage      |\n",
            "|=============================================================================|\n",
            "|  No running processes found                                                 |\n",
            "+-----------------------------------------------------------------------------+\n"
          ],
          "name": "stdout"
        }
      ]
    },
    {
      "cell_type": "code",
      "metadata": {
        "id": "wSlkbhSfNCQt",
        "colab_type": "code",
        "outputId": "1217d445-2e2f-4adf-ccf7-bfead8401fa8",
        "colab": {
          "base_uri": "https://localhost:8080/",
          "height": 353
        }
      },
      "source": [
        "!python train.py experiments/dryice1/experiment1/config.py"
      ],
      "execution_count": 0,
      "outputs": [
        {
          "output_type": "stream",
          "text": [
            "Python 3.6.9 (default, Nov  7 2019, 10:44:02) \n",
            "[GCC 8.3.0]\n",
            "PyTorch 1.4.0\n",
            "train.py experiments/dryice1/experiment1/config.py\n",
            "Output path: experiments/dryice1/experiment1\n",
            "Config loaded (0.01 s)\n",
            "Dataset instantiated (10.90 s)\n",
            "Writer instantiated (0.00 s)\n",
            "Autoencoder instantiated (11.48 s)\n",
            "Optimizer instantiated (0.01 s)\n",
            "/usr/local/lib/python3.6/dist-packages/torch/nn/functional.py:2705: UserWarning: Default grid_sample and affine_grid behavior has changed to align_corners=False since 1.3.0. Please specify align_corners=True if the old behavior is desired. See the documentation of grid_sample for details.\n",
            "  warnings.warn(\"Default grid_sample and affine_grid behavior has changed \"\n",
            "Iteration 0: loss = 14.49560, kldiv = 0.00297, tvl1 = 0.03804, alphapr = 0.02103, irgbmse = 14.49501, iter/sec = 0.29\n",
            "Iteration 1: loss = 9.61679, kldiv = 0.00628, tvl1 = 0.03982, alphapr = 0.02129, irgbmse = 9.61617\n",
            "Iteration 2: loss = 6.87552, kldiv = 0.01059, tvl1 = 0.04149, alphapr = 0.03232, irgbmse = 6.87477\n",
            "Iteration 3: loss = 4.38382, kldiv = 0.01879, tvl1 = 0.04659, alphapr = 0.03367, irgbmse = 4.38300\n",
            "Iteration 4: loss = 4.69802, kldiv = 0.03229, tvl1 = 0.05352, alphapr = 0.13722, irgbmse = 4.69608\n"
          ],
          "name": "stdout"
        }
      ]
    },
    {
      "cell_type": "code",
      "metadata": {
        "id": "vocCe-hbb1It",
        "colab_type": "code",
        "colab": {}
      },
      "source": [
        "!rm experiments/dryice1/experiment1/log.txt"
      ],
      "execution_count": 0,
      "outputs": []
    }
  ]
}