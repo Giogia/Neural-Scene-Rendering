{
  "nbformat": 4,
  "nbformat_minor": 0,
  "metadata": {
    "colab": {
      "name": "Neural volumes.ipynb",
      "provenance": [],
      "collapsed_sections": [],
      "machine_shape": "hm",
      "authorship_tag": "ABX9TyOxTEVYy0V8b/bmfWOPJeLi",
      "include_colab_link": true
    },
    "kernelspec": {
      "name": "python3",
      "display_name": "Python 3"
    },
    "accelerator": "GPU"
  },
  "cells": [
    {
      "cell_type": "markdown",
      "metadata": {
        "id": "view-in-github",
        "colab_type": "text"
      },
      "source": [
        "<a href=\"https://colab.research.google.com/github/Giogia/Neural-Volumes/blob/master/Neural_volumes.ipynb\" target=\"_parent\"><img src=\"https://colab.research.google.com/assets/colab-badge.svg\" alt=\"Open In Colab\"/></a>"
      ]
    },
    {
      "cell_type": "code",
      "metadata": {
        "id": "MEMItnDqJ8-G",
        "colab_type": "code",
        "outputId": "1bf78670-c431-4d93-c8e3-22bfc26e1192",
        "colab": {
          "base_uri": "https://localhost:8080/",
          "height": 68
        }
      },
      "source": [
        "#Init Colab location to repo, mount drive if necessary\n",
        "import os\n",
        "\n",
        "directory = 'gdrive/My Drive/Colab/Neural-Volumes'\n",
        "\n",
        "if os.getcwd() == '/content' and gdrive not in os.listdir():\n",
        "  \n",
        "  from google.colab import drive\n",
        "  drive.mount('/content/gdrive')\n",
        "\n",
        "if os.getcwd() != '/content/' + directory:\n",
        "  os.chdir(directory)\n",
        "\n",
        "print('Repository Content', '\\n')\n",
        "%ls"
      ],
      "execution_count": 55,
      "outputs": [
        {
          "output_type": "stream",
          "text": [
            "Repository Content \n",
            "\n",
            "\u001b[0m\u001b[01;34mdata\u001b[0m/  \u001b[01;34meval\u001b[0m/  \u001b[01;34mexperiments\u001b[0m/  experiments.tar.gz  \u001b[01;34mmodels\u001b[0m/  render.py  train.py\n"
          ],
          "name": "stdout"
        }
      ]
    },
    {
      "cell_type": "code",
      "metadata": {
        "id": "txXEYUYquHH8",
        "colab_type": "code",
        "outputId": "7fce58f7-eac6-457d-9bb9-d246aee43847",
        "colab": {
          "base_uri": "https://localhost:8080/",
          "height": 34
        }
      },
      "source": [
        "!git pull"
      ],
      "execution_count": 23,
      "outputs": [
        {
          "output_type": "stream",
          "text": [
            "Already up to date.\n"
          ],
          "name": "stdout"
        }
      ]
    },
    {
      "cell_type": "code",
      "metadata": {
        "colab_type": "code",
        "id": "23TOba33L4qf",
        "outputId": "8a36f720-89fe-49a4-8f0b-0d08165b8ca1",
        "colab": {
          "base_uri": "https://localhost:8080/",
          "height": 306
        }
      },
      "source": [
        "gpu_info = !nvidia-smi\n",
        "gpu_info = '\\n'.join(gpu_info)\n",
        "if gpu_info.find('failed') >= 0:\n",
        "  print('Select the Runtime → \"Change runtime type\" menu to enable a GPU accelerator, ')\n",
        "  print('and then re-execute this cell.')\n",
        "else:\n",
        "  print(gpu_info)"
      ],
      "execution_count": 14,
      "outputs": [
        {
          "output_type": "stream",
          "text": [
            "Tue Apr 21 17:45:30 2020       \n",
            "+-----------------------------------------------------------------------------+\n",
            "| NVIDIA-SMI 440.64.00    Driver Version: 418.67       CUDA Version: 10.1     |\n",
            "|-------------------------------+----------------------+----------------------+\n",
            "| GPU  Name        Persistence-M| Bus-Id        Disp.A | Volatile Uncorr. ECC |\n",
            "| Fan  Temp  Perf  Pwr:Usage/Cap|         Memory-Usage | GPU-Util  Compute M. |\n",
            "|===============================+======================+======================|\n",
            "|   0  Tesla P100-PCIE...  Off  | 00000000:00:04.0 Off |                    0 |\n",
            "| N/A   42C    P0    28W / 250W |      0MiB / 16280MiB |      0%      Default |\n",
            "+-------------------------------+----------------------+----------------------+\n",
            "                                                                               \n",
            "+-----------------------------------------------------------------------------+\n",
            "| Processes:                                                       GPU Memory |\n",
            "|  GPU       PID   Type   Process name                             Usage      |\n",
            "|=============================================================================|\n",
            "|  No running processes found                                                 |\n",
            "+-----------------------------------------------------------------------------+\n"
          ],
          "name": "stdout"
        }
      ]
    },
    {
      "cell_type": "code",
      "metadata": {
        "id": "wSlkbhSfNCQt",
        "colab_type": "code",
        "outputId": "48695e45-3c4f-4ed8-f18b-86a86fd3dad5",
        "colab": {
          "base_uri": "https://localhost:8080/",
          "height": 751
        }
      },
      "source": [
        "!python train.py experiments/dryice1/experiment1/config.py"
      ],
      "execution_count": 17,
      "outputs": [
        {
          "output_type": "stream",
          "text": [
            "Python 3.6.9 (default, Nov  7 2019, 10:44:02) \n",
            "[GCC 8.3.0]\n",
            "PyTorch 1.4.0\n",
            "train.py experiments/dryice1/experiment1/config.py\n",
            "Output path: experiments/dryice1/experiment1\n",
            "Config loaded (0.01 s)\n",
            "Dataset instantiated (2.08 s)\n",
            "Writer instantiated (0.00 s)\n",
            "Autoencoder instantiated (11.98 s)\n",
            "Optimizer instantiated (0.01 s)\n",
            "/usr/local/lib/python3.6/dist-packages/torch/nn/functional.py:2705: UserWarning: Default grid_sample and affine_grid behavior has changed to align_corners=False since 1.3.0. Please specify align_corners=True if the old behavior is desired. See the documentation of grid_sample for details.\n",
            "  warnings.warn(\"Default grid_sample and affine_grid behavior has changed \"\n",
            "Iteration 0: loss = 9.77407, kldiv = 0.00445, tvl1 = 0.04144, alphapr = 0.00114, irgbmse = 9.77364, iter/sec = 0.20\n",
            "Iteration 1: loss = 4.88783, kldiv = 0.01026, tvl1 = 0.04471, alphapr = 0.00157, irgbmse = 4.88736\n",
            "Traceback (most recent call last):\n",
            "  File \"train.py\", line 148, in <module>\n",
            "    testoutput = ae(iternum, [], **{k: x.to(\"cuda\") for k, x in testbatch.items()}, **progressprof.get_ae_args())\n",
            "  File \"/usr/local/lib/python3.6/dist-packages/torch/nn/modules/module.py\", line 532, in __call__\n",
            "    result = self.forward(*input, **kwargs)\n",
            "  File \"/usr/local/lib/python3.6/dist-packages/torch/nn/parallel/data_parallel.py\", line 150, in forward\n",
            "    return self.module(*inputs[0], **kwargs[0])\n",
            "  File \"/usr/local/lib/python3.6/dist-packages/torch/nn/modules/module.py\", line 532, in __call__\n",
            "    result = self.forward(*input, **kwargs)\n",
            "  File \"/content/gdrive/My Drive/Colab/Neural-Volumes/models/neurvol1.py\", line 55, in forward\n",
            "    decout = self.decoder(encoding, campos, losslist)\n",
            "  File \"/usr/local/lib/python3.6/dist-packages/torch/nn/modules/module.py\", line 532, in __call__\n",
            "    result = self.forward(*input, **kwargs)\n",
            "  File \"/content/gdrive/My Drive/Colab/Neural-Volumes/models/decoders/voxel1.py\", line 204, in forward\n",
            "    template = self.template(templatein)\n",
            "  File \"/usr/local/lib/python3.6/dist-packages/torch/nn/modules/module.py\", line 532, in __call__\n",
            "    result = self.forward(*input, **kwargs)\n",
            "  File \"/content/gdrive/My Drive/Colab/Neural-Volumes/models/decoders/voxel1.py\", line 41, in forward\n",
            "    return self.template2(self.template1(encoding).view(-1, 1024, 1, 1, 1))\n",
            "  File \"/usr/local/lib/python3.6/dist-packages/torch/nn/modules/module.py\", line 532, in __call__\n",
            "    result = self.forward(*input, **kwargs)\n",
            "  File \"/usr/local/lib/python3.6/dist-packages/torch/nn/modules/container.py\", line 100, in forward\n",
            "    input = module(input)\n",
            "  File \"/usr/local/lib/python3.6/dist-packages/torch/nn/modules/module.py\", line 532, in __call__\n",
            "    result = self.forward(*input, **kwargs)\n",
            "  File \"/usr/local/lib/python3.6/dist-packages/torch/nn/modules/conv.py\", line 921, in forward\n",
            "    output_padding, self.groups, self.dilation)\n",
            "RuntimeError: CUDA out of memory. Tried to allocate 2.00 GiB (GPU 0; 15.90 GiB total capacity; 14.01 GiB already allocated; 1.01 GiB free; 14.19 GiB reserved in total by PyTorch)\n"
          ],
          "name": "stdout"
        }
      ]
    },
    {
      "cell_type": "code",
      "metadata": {
        "id": "vocCe-hbb1It",
        "colab_type": "code",
        "colab": {}
      },
      "source": [
        "!rm experiments/dryice1/experiment1/log.txt"
      ],
      "execution_count": 0,
      "outputs": []
    }
  ]
}